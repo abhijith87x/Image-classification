{
 "cells": [
  {
   "cell_type": "code",
   "execution_count": 16,
   "id": "42878760-544b-4c39-ad18-09b3a06dd585",
   "metadata": {},
   "outputs": [],
   "source": [
    "from tensorflow.keras.models import Sequential\n",
    "from tensorflow.keras.layers import Dense,Conv2D,Flatten,MaxPooling2D\n",
    "import numpy as np\n",
    "import matplotlib.pyplot as plt\n",
    "import random\n",
    "from PIL import Image\n",
    "from tensorflow.keras.utils import to_categorical\n",
    "from tensorflow.keras.datasets import cifar10\n",
    "from tensorflow.keras.preprocessing.image import ImageDataGenerator\n",
    "from tensorflow.keras.losses import SparseCategoricalCrossentropy"
   ]
  },
  {
   "cell_type": "code",
   "execution_count": 5,
   "id": "126bddc2-c283-463b-9f46-fb515eadb946",
   "metadata": {},
   "outputs": [],
   "source": [
    "(XTRAIN,YTRAIN),(XTEST,YTEST)=cifar10.load_data()"
   ]
  },
  {
   "cell_type": "code",
   "execution_count": 6,
   "id": "ad75d305-3091-45be-8d85-60eee073c536",
   "metadata": {},
   "outputs": [],
   "source": [
    "datagen = ImageDataGenerator(\n",
    "    rotation_range=20,\n",
    "    width_shift_range=0.2,\n",
    "    height_shift_range=0.2,\n",
    "    horizontal_flip=True\n",
    ")\n",
    "datagen.fit(XTRAIN)"
   ]
  },
  {
   "cell_type": "code",
   "execution_count": 7,
   "id": "d47abe94-c710-43b6-8026-f1b252a99783",
   "metadata": {},
   "outputs": [
    {
     "data": {
      "text/plain": [
       "(50000, 32, 32, 3)"
      ]
     },
     "execution_count": 7,
     "metadata": {},
     "output_type": "execute_result"
    }
   ],
   "source": [
    "XTRAIN.shape"
   ]
  },
  {
   "cell_type": "code",
   "execution_count": 8,
   "id": "adac9f7e-79f1-4321-8225-6025f394c57b",
   "metadata": {},
   "outputs": [
    {
     "name": "stdout",
     "output_type": "stream",
     "text": [
      "XTRAIN (50000, 32, 32, 3)\n",
      "YTRAIN (50000, 1)\n",
      "XTEST (10000, 32, 32, 3)\n",
      "YTEST (10000, 1)\n"
     ]
    }
   ],
   "source": [
    "print(\"XTRAIN\",XTRAIN.shape)\n",
    "print(\"YTRAIN\",YTRAIN.shape)\n",
    "print(\"XTEST\",XTEST.shape)\n",
    "print(\"YTEST\",YTEST.shape)"
   ]
  },
  {
   "cell_type": "code",
   "execution_count": 9,
   "id": "af6569a1-8b2c-48e8-8a87-da6004154b18",
   "metadata": {},
   "outputs": [
    {
     "data": {
      "text/plain": [
       "array([6, 9, 9, 4, 1])"
      ]
     },
     "execution_count": 9,
     "metadata": {},
     "output_type": "execute_result"
    }
   ],
   "source": [
    "YTRAIN=YTRAIN.reshape(-1,)\n",
    "YTRAIN=YTRAIN.astype(int)\n",
    "YTRAIN[:5]"
   ]
  },
  {
   "cell_type": "code",
   "execution_count": 10,
   "id": "0081c183-5604-45c3-8e93-35e841db4669",
   "metadata": {},
   "outputs": [],
   "source": [
    "classes=['airplane','automobile','bird','cat','deer','dog','frog','horse','ship','truck']"
   ]
  },
  {
   "cell_type": "code",
   "execution_count": 11,
   "id": "86bc86f2-afd9-42d2-8115-b0d3aca254be",
   "metadata": {},
   "outputs": [],
   "source": [
    "def plot_sample(X,Y,index):\n",
    "  plt.figure(figsize=(2,2))\n",
    "  plt.imshow(X[index])\n",
    "  plt.xlabel(classes[int(Y[index])])"
   ]
  },
  {
   "cell_type": "code",
   "execution_count": 12,
   "id": "711d8fa3-5b57-4d9f-938b-bcbd7b32ba89",
   "metadata": {},
   "outputs": [
    {
     "data": {
      "image/png": "[encoded data removed]",
      "text/plain": [
       "<Figure size 200x200 with 1 Axes>"
      ]
     },
     "metadata": {},
     "output_type": "display_data"
    }
   ],
   "source": [
    "plot_sample(XTRAIN,YTRAIN,3)\n"
   ]
  },
  {
   "cell_type": "code",
   "execution_count": 13,
   "id": "f4bdb015-4fa6-44da-8aef-5f5fd7ff02b0",
   "metadata": {},
   "outputs": [],
   "source": [
    "XTEST=XTEST/255.0\n",
    "XTRAIN=XTRAIN/255.0"
   ]
  },
  {
   "cell_type": "code",
   "execution_count": 17,
   "id": "5547cbdc-29dd-4247-af2f-2a94adc7c5cc",
   "metadata": {},
   "outputs": [],
   "source": [
    "model=Sequential()\n",
    "model.add(Conv2D(32,(3,3),activation='relu',input_shape=(32,32,3)))\n",
    "model.add(MaxPooling2D(2,2))\n",
    "model.add(Conv2D(64,(3,3),activation='relu'))\n",
    "model.add(MaxPooling2D(2,2))\n",
    "model.add(Flatten())\n",
    "model.add(Dense(64,activation='relu'))\n",
    "model.add(Dense(10,activation='softmax'))"
   ]
  },
  {
   "cell_type": "code",
   "execution_count": 51,
   "id": "2ec7f7c8-f5a2-476e-a99f-9894a61ec0f1",
   "metadata": {},
   "outputs": [],
   "source": [
    "model.compile(optimizer='adam', loss='SparseCategoricalCrossentropy',metrics=['accuracy'])"
   ]
  },
  {
   "cell_type": "code",
   "execution_count": 52,
   "id": "814f88e8-0023-4438-82fb-a98035565053",
   "metadata": {},
   "outputs": [
    {
     "name": "stdout",
     "output_type": "stream",
     "text": [
      "1563/1563 [==============================] - 8s 5ms/step - loss: 0.4950 - accuracy: 0.8253\n"
     ]
    }
   ],
   "source": [
    "history = model.fit(XTRAIN, YTRAIN, epochs=1)\n"
   ]
  },
  {
   "cell_type": "code",
   "execution_count": 53,
   "id": "c6084d5a-05d7-4a49-9076-5abf37b0b630",
   "metadata": {},
   "outputs": [
    {
     "name": "stdout",
     "output_type": "stream",
     "text": [
      "313/313 [==============================] - 1s 3ms/step - loss: 1.0259 - accuracy: 0.6950\n"
     ]
    }
   ],
   "source": [
    "test_loss,predict=model.evaluate(XTEST,YTEST)"
   ]
  },
  {
   "cell_type": "code",
   "execution_count": 54,
   "id": "ae079ca1-18b5-44d9-ba81-d4a3793d2c5b",
   "metadata": {},
   "outputs": [
    {
     "name": "stdout",
     "output_type": "stream",
     "text": [
      "1/1 [==============================] - 0s 55ms/step\n"
     ]
    },
    {
     "data": {
      "image/png": "[encoded data removed]",
      "text/plain": [
       "<Figure size 200x200 with 1 Axes>"
      ]
     },
     "metadata": {},
     "output_type": "display_data"
    }
   ],
   "source": [
    "rand=random.randint(1,len(XTEST))\n",
    "random_image=XTEST[rand]\n",
    "label = np.argmax(YTEST[rand])\n",
    "plt.figure(figsize=(2, 2))\n",
    "prediction=model.predict(np.expand_dims(random_image,axis=0))\n",
    "predicted_class=int(np.argmax(prediction))\n",
    "\n",
    "plt.imshow(random_image)\n",
    "plt.title(f\"The predicted result is {classes[predicted_class]}\")\n",
    "plt.axis(\"off\")\n",
    "plt.show()"
   ]
  },
  {
   "cell_type": "code",
   "execution_count": 55,
   "id": "5295cf66-b808-435e-8ace-531841d8333d",
   "metadata": {},
   "outputs": [],
   "source": [
    "model.save(\"C:\\\\Users\\\\User\\\\Desktop\\\\tenserflow\\\\cnn_saved_model_.h5\")"
   ]
  },
  {
   "cell_type": "code",
   "execution_count": 56,
   "id": "598074e3-81cb-4936-996a-a62116e2ccea",
   "metadata": {},
   "outputs": [],
   "source": [
    "model.save(\"C:\\\\Users\\\\User\\\\Desktop\\\\tenserflow\\\\cnn_saved_model.keras\")"
   ]
  },
  {
   "cell_type": "code",
   "execution_count": 60,
   "id": "d693aebf-0588-4f03-a6be-2101120c3cb6",
   "metadata": {},
   "outputs": [
    {
     "name": "stdout",
     "output_type": "stream",
     "text": [
      "False\n"
     ]
    }
   ],
   "source": [
    "print(tf.test.is_built_with_cuda())  # True ആണെങ്കിൽ CUDA support ഉണ്ട്\n"
   ]
  },
  {
   "cell_type": "code",
   "execution_count": null,
   "id": "e83950ea-9516-4da7-9f21-5a81ae11ca3f",
   "metadata": {},
   "outputs": [],
   "source": []
  }
 ],
 "metadata": {
  "kernelspec": {
   "display_name": "Python 3 (ipykernel)",
   "language": "python",
   "name": "python3"
  },
  "language_info": {
   "codemirror_mode": {
    "name": "ipython",
    "version": 3
   },
   "file_extension": ".py",
   "mimetype": "text/x-python",
   "name": "python",
   "nbconvert_exporter": "python",
   "pygments_lexer": "ipython3",
   "version": "3.10.11"
  },
  "widgets": {
   "application/vnd.jupyter.widget-state+json": {
    "state": {},
    "version_major": 2,
    "version_minor": 0
   }
  }
 },
 "nbformat": 4,
 "nbformat_minor": 5
}
